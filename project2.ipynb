{
 "cells": [
  {
   "cell_type": "code",
   "execution_count": 2,
   "id": "5906bcc5-cb35-421e-9bb7-bc55e7344971",
   "metadata": {
    "tags": []
   },
   "outputs": [],
   "source": [
    "import pandas as pd\n",
    "from sklearn import preprocessing\n",
    "from sklearn.model_selection import train_test_split\n",
    "from sklearn.utils import resample\n",
    "from xgboost import XGBClassifier\n",
    "from sklearn.metrics import recall_score\n",
    "from sklearn.metrics import classification_report"
   ]
  },
  {
   "cell_type": "code",
   "execution_count": 4,
   "id": "363a969b-5445-4ee9-a6f1-7b37486085ff",
   "metadata": {
    "tags": []
   },
   "outputs": [],
   "source": [
    "df = pd.read_csv(\"shared/complaints_25Nov21.csv\")"
   ]
  },
  {
   "cell_type": "code",
   "execution_count": 5,
   "id": "dbdf2dd7-4a40-423c-ba52-f6c33a9578e9",
   "metadata": {
    "tags": []
   },
   "outputs": [],
   "source": [
    "df=df.fillna('missing')"
   ]
  },
  {
   "cell_type": "code",
   "execution_count": 6,
   "id": "f5f4007b-9f5e-4abe-8524-44bf66586792",
   "metadata": {
    "tags": []
   },
   "outputs": [
    {
     "name": "stdout",
     "output_type": "stream",
     "text": [
      "Proportion of consumers who raised a dispute in the undersampled training dataset: 0.50\n"
     ]
    }
   ],
   "source": [
    "#q2\n",
    "selected_columns = ['Product', 'Sub-product', 'Issue', 'State', 'Tags', 'Submitted via', 'Company response to consumer', 'Timely response?']\n",
    "X = df[selected_columns]\n",
    "le = preprocessing.LabelEncoder()\n",
    "df['Consumer disputed?'] = le.fit_transform(df['Consumer disputed?'])\n",
    "X_train, X_test, y_train, y_test = train_test_split(X, df['Consumer disputed?'], test_size=0.2, random_state=123)\n",
    "train_data = pd.concat([X_train, y_train], axis=1)\n",
    "disputed_samples = train_data[train_data['Consumer disputed?'] == 1]\n",
    "not_disputed_samples = train_data[train_data['Consumer disputed?'] == 0]\n",
    "undersampled_not_disputed = resample(not_disputed_samples, \n",
    "                                     replace=False,  \n",
    "                                     n_samples=len(disputed_samples),  \n",
    "                                     random_state=123)\n",
    "undersampled_train_data = pd.concat([disputed_samples, undersampled_not_disputed])\n",
    "dispute_proportion_undersampled = sum(undersampled_train_data['Consumer disputed?']) / len(undersampled_train_data)\n",
    "print(\"Proportion of consumers who raised a dispute in the undersampled training dataset: {:.2f}\".format(dispute_proportion_undersampled))"
   ]
  },
  {
   "cell_type": "code",
   "execution_count": 22,
   "id": "269d56c2-b698-4b93-8dbb-ca26577fdd0b",
   "metadata": {
    "tags": []
   },
   "outputs": [
    {
     "name": "stdout",
     "output_type": "stream",
     "text": [
      "Proportion of consumers who raised a dispute in the test set: 0.21586\n"
     ]
    }
   ],
   "source": [
    "#q1\n",
    "dispute_proportion = sum(y_test) / len(y_test)\n",
    "\n",
    "print(\"Proportion of consumers who raised a dispute in the test set: {:.5f}\".format(dispute_proportion))"
   ]
  },
  {
   "cell_type": "code",
   "execution_count": 32,
   "id": "04b62237-e1f5-4a19-bbc1-5cd560cb9d6c",
   "metadata": {
    "tags": []
   },
   "outputs": [],
   "source": [
    "from imblearn.under_sampling import RandomUnderSampler\n",
    "\n",
    "undersampler = RandomUnderSampler(random_state=123)\n",
    "\n",
    "X_train, y_train = undersampler.fit_resample(X_encoded, y)"
   ]
  },
  {
   "cell_type": "code",
   "execution_count": 30,
   "id": "bfd2cb95-da2f-4672-88ed-35a3bfdd6acc",
   "metadata": {
    "tags": []
   },
   "outputs": [
    {
     "data": {
      "text/html": [
       "<style>#sk-container-id-4 {color: black;}#sk-container-id-4 pre{padding: 0;}#sk-container-id-4 div.sk-toggleable {background-color: white;}#sk-container-id-4 label.sk-toggleable__label {cursor: pointer;display: block;width: 100%;margin-bottom: 0;padding: 0.3em;box-sizing: border-box;text-align: center;}#sk-container-id-4 label.sk-toggleable__label-arrow:before {content: \"▸\";float: left;margin-right: 0.25em;color: #696969;}#sk-container-id-4 label.sk-toggleable__label-arrow:hover:before {color: black;}#sk-container-id-4 div.sk-estimator:hover label.sk-toggleable__label-arrow:before {color: black;}#sk-container-id-4 div.sk-toggleable__content {max-height: 0;max-width: 0;overflow: hidden;text-align: left;background-color: #f0f8ff;}#sk-container-id-4 div.sk-toggleable__content pre {margin: 0.2em;color: black;border-radius: 0.25em;background-color: #f0f8ff;}#sk-container-id-4 input.sk-toggleable__control:checked~div.sk-toggleable__content {max-height: 200px;max-width: 100%;overflow: auto;}#sk-container-id-4 input.sk-toggleable__control:checked~label.sk-toggleable__label-arrow:before {content: \"▾\";}#sk-container-id-4 div.sk-estimator input.sk-toggleable__control:checked~label.sk-toggleable__label {background-color: #d4ebff;}#sk-container-id-4 div.sk-label input.sk-toggleable__control:checked~label.sk-toggleable__label {background-color: #d4ebff;}#sk-container-id-4 input.sk-hidden--visually {border: 0;clip: rect(1px 1px 1px 1px);clip: rect(1px, 1px, 1px, 1px);height: 1px;margin: -1px;overflow: hidden;padding: 0;position: absolute;width: 1px;}#sk-container-id-4 div.sk-estimator {font-family: monospace;background-color: #f0f8ff;border: 1px dotted black;border-radius: 0.25em;box-sizing: border-box;margin-bottom: 0.5em;}#sk-container-id-4 div.sk-estimator:hover {background-color: #d4ebff;}#sk-container-id-4 div.sk-parallel-item::after {content: \"\";width: 100%;border-bottom: 1px solid gray;flex-grow: 1;}#sk-container-id-4 div.sk-label:hover label.sk-toggleable__label {background-color: #d4ebff;}#sk-container-id-4 div.sk-serial::before {content: \"\";position: absolute;border-left: 1px solid gray;box-sizing: border-box;top: 0;bottom: 0;left: 50%;z-index: 0;}#sk-container-id-4 div.sk-serial {display: flex;flex-direction: column;align-items: center;background-color: white;padding-right: 0.2em;padding-left: 0.2em;position: relative;}#sk-container-id-4 div.sk-item {position: relative;z-index: 1;}#sk-container-id-4 div.sk-parallel {display: flex;align-items: stretch;justify-content: center;background-color: white;position: relative;}#sk-container-id-4 div.sk-item::before, #sk-container-id-4 div.sk-parallel-item::before {content: \"\";position: absolute;border-left: 1px solid gray;box-sizing: border-box;top: 0;bottom: 0;left: 50%;z-index: -1;}#sk-container-id-4 div.sk-parallel-item {display: flex;flex-direction: column;z-index: 1;position: relative;background-color: white;}#sk-container-id-4 div.sk-parallel-item:first-child::after {align-self: flex-end;width: 50%;}#sk-container-id-4 div.sk-parallel-item:last-child::after {align-self: flex-start;width: 50%;}#sk-container-id-4 div.sk-parallel-item:only-child::after {width: 0;}#sk-container-id-4 div.sk-dashed-wrapped {border: 1px dashed gray;margin: 0 0.4em 0.5em 0.4em;box-sizing: border-box;padding-bottom: 0.4em;background-color: white;}#sk-container-id-4 div.sk-label label {font-family: monospace;font-weight: bold;display: inline-block;line-height: 1.2em;}#sk-container-id-4 div.sk-label-container {text-align: center;}#sk-container-id-4 div.sk-container {/* jupyter's `normalize.less` sets `[hidden] { display: none; }` but bootstrap.min.css set `[hidden] { display: none !important; }` so we also need the `!important` here to be able to override the default hidden behavior on the sphinx rendered scikit-learn.org. See: https://github.com/scikit-learn/scikit-learn/issues/21755 */display: inline-block !important;position: relative;}#sk-container-id-4 div.sk-text-repr-fallback {display: none;}</style><div id=\"sk-container-id-4\" class=\"sk-top-container\"><div class=\"sk-text-repr-fallback\"><pre>XGBClassifier(base_score=None, booster=None, callbacks=None,\n",
       "              colsample_bylevel=None, colsample_bynode=None,\n",
       "              colsample_bytree=None, early_stopping_rounds=None,\n",
       "              enable_categorical=False, eval_metric=None, feature_types=None,\n",
       "              gamma=None, gpu_id=None, grow_policy=None, importance_type=None,\n",
       "              interaction_constraints=None, learning_rate=None, max_bin=None,\n",
       "              max_cat_threshold=None, max_cat_to_onehot=None,\n",
       "              max_delta_step=None, max_depth=None, max_leaves=None,\n",
       "              min_child_weight=None, missing=nan, monotone_constraints=None,\n",
       "              n_estimators=100, n_jobs=None, num_parallel_tree=None,\n",
       "              predictor=None, random_state=123, ...)</pre><b>In a Jupyter environment, please rerun this cell to show the HTML representation or trust the notebook. <br />On GitHub, the HTML representation is unable to render, please try loading this page with nbviewer.org.</b></div><div class=\"sk-container\" hidden><div class=\"sk-item\"><div class=\"sk-estimator sk-toggleable\"><input class=\"sk-toggleable__control sk-hidden--visually\" id=\"sk-estimator-id-4\" type=\"checkbox\" checked><label for=\"sk-estimator-id-4\" class=\"sk-toggleable__label sk-toggleable__label-arrow\">XGBClassifier</label><div class=\"sk-toggleable__content\"><pre>XGBClassifier(base_score=None, booster=None, callbacks=None,\n",
       "              colsample_bylevel=None, colsample_bynode=None,\n",
       "              colsample_bytree=None, early_stopping_rounds=None,\n",
       "              enable_categorical=False, eval_metric=None, feature_types=None,\n",
       "              gamma=None, gpu_id=None, grow_policy=None, importance_type=None,\n",
       "              interaction_constraints=None, learning_rate=None, max_bin=None,\n",
       "              max_cat_threshold=None, max_cat_to_onehot=None,\n",
       "              max_delta_step=None, max_depth=None, max_leaves=None,\n",
       "              min_child_weight=None, missing=nan, monotone_constraints=None,\n",
       "              n_estimators=100, n_jobs=None, num_parallel_tree=None,\n",
       "              predictor=None, random_state=123, ...)</pre></div></div></div></div></div>"
      ],
      "text/plain": [
       "XGBClassifier(base_score=None, booster=None, callbacks=None,\n",
       "              colsample_bylevel=None, colsample_bynode=None,\n",
       "              colsample_bytree=None, early_stopping_rounds=None,\n",
       "              enable_categorical=False, eval_metric=None, feature_types=None,\n",
       "              gamma=None, gpu_id=None, grow_policy=None, importance_type=None,\n",
       "              interaction_constraints=None, learning_rate=None, max_bin=None,\n",
       "              max_cat_threshold=None, max_cat_to_onehot=None,\n",
       "              max_delta_step=None, max_depth=None, max_leaves=None,\n",
       "              min_child_weight=None, missing=nan, monotone_constraints=None,\n",
       "              n_estimators=100, n_jobs=None, num_parallel_tree=None,\n",
       "              predictor=None, random_state=123, ...)"
      ]
     },
     "execution_count": 30,
     "metadata": {},
     "output_type": "execute_result"
    }
   ],
   "source": [
    "model_xgb = XGBClassifier(random_state=123)\n",
    "model_xgb.fit(X_train, y_train)"
   ]
  },
  {
   "cell_type": "code",
   "execution_count": 31,
   "id": "022caa9a-7a2a-4827-b9f2-efebd42d65ab",
   "metadata": {
    "tags": []
   },
   "outputs": [
    {
     "name": "stdout",
     "output_type": "stream",
     "text": [
      "              precision    recall  f1-score   support\n",
      "\n",
      "           0       0.85      0.53      0.66     32504\n",
      "           1       0.28      0.65      0.39      8948\n",
      "\n",
      "    accuracy                           0.56     41452\n",
      "   macro avg       0.56      0.59      0.52     41452\n",
      "weighted avg       0.73      0.56      0.60     41452\n",
      "\n"
     ]
    },
    {
     "data": {
      "image/png": "[encoded data removed]",
      "text/plain": [
       "<Figure size 640x480 with 2 Axes>"
      ]
     },
     "metadata": {},
     "output_type": "display_data"
    }
   ],
   "source": [
    "from sklearn.metrics import mean_absolute_error, mean_squared_error, ConfusionMatrixDisplay\n",
    "pred= model_xgb.predict(X_test)\n",
    "\n",
    "print(classification_report(y_true=y_test,y_pred=pred))\n",
    "ConfusionMatrixDisplay.from_estimator(model_xgb, X_test, y_test);"
   ]
  },
  {
   "cell_type": "code",
   "execution_count": 11,
   "id": "efd778f7-c8c0-4efe-bdd2-d72f953859d2",
   "metadata": {
    "tags": []
   },
   "outputs": [
    {
     "name": "stdout",
     "output_type": "stream",
     "text": [
      "Total cost to the banks without using the model: 8619200\n"
     ]
    }
   ],
   "source": [
    "#q4\n",
    "not_disputed_count = (y_test == 0).sum()\n",
    "\n",
    "disputed_count = (y_test == 1).sum()\n",
    "\n",
    "cost_per_not_disputed = 100\n",
    "\n",
    "cost_per_disputed = 600\n",
    "\n",
    "total_cost = (not_disputed_count * cost_per_not_disputed) + (disputed_count * cost_per_disputed)\n",
    "\n",
    "print(\"Total cost to the banks without using the model:\", total_cost)\n"
   ]
  },
  {
   "cell_type": "code",
   "execution_count": 36,
   "id": "2922698b-941a-4fd6-9f6b-63d6ff59d620",
   "metadata": {
    "tags": []
   },
   "outputs": [
    {
     "data": {
      "text/plain": [
       "7586750"
      ]
     },
     "execution_count": 36,
     "metadata": {},
     "output_type": "execute_result"
    }
   ],
   "source": [
    "#5\n",
    "\n",
    "100*17353+15151*190+3104*600+5844*190\n"
   ]
  },
  {
   "cell_type": "code",
   "execution_count": 47,
   "id": "693e5698-ad70-49dd-98a9-908f15d3ee94",
   "metadata": {},
   "outputs": [
    {
     "name": "stdout",
     "output_type": "stream",
     "text": [
      "Best threshold: 0.46\n",
      "Minimum total cost: 7491540\n"
     ]
    }
   ],
   "source": [
    "#6\n",
    "import numpy as np\n",
    "from sklearn.metrics import classification_report, confusion_matrix\n",
    "\n",
    "threshold_range = np.linspace(0, 1, 101)\n",
    "\n",
    "best_threshold = None\n",
    "min_total_cost = float('inf')\n",
    "\n",
    "for threshold in threshold_range:\n",
    "   \n",
    "    adjusted_predictions = (model_xgb.predict_proba(X_test)[:, 1] > threshold).astype(int)\n",
    "    tn,fp,fn,tp=confusion_matrix(y_test,adjusted_predictions).ravel()\n",
    "\n",
    "    \n",
    "    total_cost = tp*190+fp*190+fn*600+tn*100\n",
    "  \n",
    "    if total_cost < min_total_cost:\n",
    "        min_total_cost = total_cost\n",
    "        best_threshold = threshold\n",
    "\n",
    "print(\"Best threshold:\", best_threshold)\n",
    "print(\"Minimum total cost:\", min_total_cost)"
   ]
  },
  {
   "cell_type": "code",
   "execution_count": null,
   "id": "9186b9ff-7cbf-4797-9374-bb2e15ff0146",
   "metadata": {},
   "outputs": [],
   "source": []
  }
 ],
 "metadata": {
  "kernelspec": {
   "display_name": "Python [conda env:mggy8413]",
   "language": "python",
   "name": "conda-env-mggy8413-py"
  },
  "language_info": {
   "codemirror_mode": {
    "name": "ipython",
    "version": 3
   },
   "file_extension": ".py",
   "mimetype": "text/x-python",
   "name": "python",
   "nbconvert_exporter": "python",
   "pygments_lexer": "ipython3",
   "version": "3.10.12"
  }
 },
 "nbformat": 4,
 "nbformat_minor": 5
}
